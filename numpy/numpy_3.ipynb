{
 "cells": [
  {
   "cell_type": "code",
   "execution_count": 53,
   "id": "23730cac",
   "metadata": {},
   "outputs": [],
   "source": [
    "import numpy as np"
   ]
  },
  {
   "cell_type": "code",
   "execution_count": 54,
   "id": "75b862a4",
   "metadata": {},
   "outputs": [],
   "source": [
    "a= np.random.randint(1,100,15)"
   ]
  },
  {
   "cell_type": "code",
   "execution_count": 55,
   "id": "ba9d126d",
   "metadata": {},
   "outputs": [
    {
     "data": {
      "text/plain": [
       "array([65, 77, 46, 20, 95, 61, 27, 60, 81, 19,  8, 64, 10, 90, 19])"
      ]
     },
     "execution_count": 55,
     "metadata": {},
     "output_type": "execute_result"
    }
   ],
   "source": [
    "a"
   ]
  },
  {
   "cell_type": "code",
   "execution_count": 56,
   "id": "60e1352b",
   "metadata": {},
   "outputs": [],
   "source": [
    "b = np.random.randint(1,100,24).reshape(6,4)"
   ]
  },
  {
   "cell_type": "code",
   "execution_count": 57,
   "id": "781073d5",
   "metadata": {
    "scrolled": true
   },
   "outputs": [
    {
     "data": {
      "text/plain": [
       "array([[38, 66, 19, 90],\n",
       "       [91,  4, 98, 65],\n",
       "       [71,  7, 93, 54],\n",
       "       [31, 32, 82, 75],\n",
       "       [47, 78, 37,  5],\n",
       "       [83, 18, 27, 29]])"
      ]
     },
     "execution_count": 57,
     "metadata": {},
     "output_type": "execute_result"
    }
   ],
   "source": [
    "b"
   ]
  },
  {
   "cell_type": "markdown",
   "id": "5ec90de8",
   "metadata": {},
   "source": [
    "## np.sort\n",
    "Return a sorted copy of an array."
   ]
  },
  {
   "cell_type": "code",
   "execution_count": 58,
   "id": "d54f3011",
   "metadata": {},
   "outputs": [
    {
     "data": {
      "text/plain": [
       "array([ 8, 10, 19, 19, 20, 27, 46, 60, 61, 64, 65, 77, 81, 90, 95])"
      ]
     },
     "execution_count": 58,
     "metadata": {},
     "output_type": "execute_result"
    }
   ],
   "source": [
    "np.sort(a)"
   ]
  },
  {
   "cell_type": "code",
   "execution_count": 59,
   "id": "2d15ddfb",
   "metadata": {
    "scrolled": true
   },
   "outputs": [
    {
     "data": {
      "text/plain": [
       "array([[31,  4, 19,  5],\n",
       "       [38,  7, 27, 29],\n",
       "       [47, 18, 37, 54],\n",
       "       [71, 32, 82, 65],\n",
       "       [83, 66, 93, 75],\n",
       "       [91, 78, 98, 90]])"
      ]
     },
     "execution_count": 59,
     "metadata": {},
     "output_type": "execute_result"
    }
   ],
   "source": [
    "np.sort(b)\n",
    "#default rowwise sorting\n",
    "np.sort(b,axis=0)\n",
    "#this sorts colum wise"
   ]
  },
  {
   "cell_type": "markdown",
   "id": "9d7c5285",
   "metadata": {},
   "source": [
    "## np.append\n",
    "The numpy.append() appends values along the mentioned axis at the end of the array"
   ]
  },
  {
   "cell_type": "code",
   "execution_count": 60,
   "id": "8036f545",
   "metadata": {},
   "outputs": [
    {
     "data": {
      "text/plain": [
       "array([ 65,  77,  46,  20,  95,  61,  27,  60,  81,  19,   8,  64,  10,\n",
       "        90,  19, 200])"
      ]
     },
     "execution_count": 60,
     "metadata": {},
     "output_type": "execute_result"
    }
   ],
   "source": [
    "#append\n",
    "np.append(a,200)"
   ]
  },
  {
   "cell_type": "code",
   "execution_count": 61,
   "id": "18d1cd23",
   "metadata": {
    "scrolled": true
   },
   "outputs": [
    {
     "data": {
      "text/plain": [
       "array([[3.80000000e+01, 6.60000000e+01, 1.90000000e+01, 9.00000000e+01,\n",
       "        2.58988711e-01],\n",
       "       [9.10000000e+01, 4.00000000e+00, 9.80000000e+01, 6.50000000e+01,\n",
       "        4.93236477e-01],\n",
       "       [7.10000000e+01, 7.00000000e+00, 9.30000000e+01, 5.40000000e+01,\n",
       "        2.67357308e-02],\n",
       "       [3.10000000e+01, 3.20000000e+01, 8.20000000e+01, 7.50000000e+01,\n",
       "        5.60729919e-01],\n",
       "       [4.70000000e+01, 7.80000000e+01, 3.70000000e+01, 5.00000000e+00,\n",
       "        5.57330798e-01],\n",
       "       [8.30000000e+01, 1.80000000e+01, 2.70000000e+01, 2.90000000e+01,\n",
       "        1.34808876e-01]])"
      ]
     },
     "execution_count": 61,
     "metadata": {},
     "output_type": "execute_result"
    }
   ],
   "source": [
    "np.append(b,np.random.random((b.shape[0],1)),axis=1)"
   ]
  },
  {
   "cell_type": "markdown",
   "id": "f2fde9cf",
   "metadata": {},
   "source": [
    "## np.concatenate\n",
    "numpy.concatenate() function concatenate a sequence of arrays along an existing axis."
   ]
  },
  {
   "cell_type": "code",
   "execution_count": 62,
   "id": "e7e6a031",
   "metadata": {},
   "outputs": [],
   "source": [
    "c=np.arange(6).reshape(2,3)\n",
    "d=np.arange(6,12).reshape(2,3)"
   ]
  },
  {
   "cell_type": "code",
   "execution_count": 63,
   "id": "4d1af2a3",
   "metadata": {
    "scrolled": false
   },
   "outputs": [
    {
     "data": {
      "text/plain": [
       "array([[ 0,  1,  2,  6,  7,  8],\n",
       "       [ 3,  4,  5,  9, 10, 11]])"
      ]
     },
     "execution_count": 63,
     "metadata": {},
     "output_type": "execute_result"
    }
   ],
   "source": [
    "np.concatenate((c,d),axis=0) #h-stack\n",
    "np.concatenate((c,d),axis=1) #v-stack"
   ]
  },
  {
   "cell_type": "markdown",
   "id": "5c7e3fe6",
   "metadata": {},
   "source": [
    "## np.unique\n",
    "With the help of np.unique() method, we can get the unique values from an array given as parameter in np.unique() method."
   ]
  },
  {
   "cell_type": "code",
   "execution_count": 64,
   "id": "61c83a87",
   "metadata": {
    "scrolled": true
   },
   "outputs": [
    {
     "data": {
      "text/plain": [
       "array([1, 2, 3, 4, 5, 9])"
      ]
     },
     "execution_count": 64,
     "metadata": {},
     "output_type": "execute_result"
    }
   ],
   "source": [
    "e=np.array([1,1,1,2,3,3,4,5,5,9])\n",
    "np.unique(e)"
   ]
  },
  {
   "cell_type": "code",
   "execution_count": 65,
   "id": "991969a1",
   "metadata": {
    "scrolled": true
   },
   "outputs": [
    {
     "data": {
      "text/plain": [
       "array([65, 77, 46, 20, 95, 61, 27, 60, 81, 19,  8, 64, 10, 90, 19])"
      ]
     },
     "execution_count": 65,
     "metadata": {},
     "output_type": "execute_result"
    }
   ],
   "source": [
    "a"
   ]
  },
  {
   "cell_type": "markdown",
   "id": "e4e534fa",
   "metadata": {},
   "source": [
    "## np.expand_dims\n",
    "With the help of Numpy.expand_dims() method, we can get the expanded dimensions of an array"
   ]
  },
  {
   "cell_type": "code",
   "execution_count": 66,
   "id": "33e29060",
   "metadata": {
    "scrolled": true
   },
   "outputs": [
    {
     "data": {
      "text/plain": [
       "(15, 1)"
      ]
     },
     "execution_count": 66,
     "metadata": {},
     "output_type": "execute_result"
    }
   ],
   "source": [
    "np.expand_dims(a,axis=0).shape #row mtrix\n",
    "np.expand_dims(a,axis=1).shape #column matrix"
   ]
  },
  {
   "cell_type": "markdown",
   "id": "a71b99e2",
   "metadata": {},
   "source": [
    "## np.where\n",
    "The numpy.where() function returns the indices of elements in an input array where the given condition is satisfied."
   ]
  },
  {
   "cell_type": "code",
   "execution_count": 67,
   "id": "6e15290c",
   "metadata": {},
   "outputs": [
    {
     "data": {
      "text/plain": [
       "(array([ 0,  1,  4,  5,  7,  8, 11, 13], dtype=int64),)"
      ]
     },
     "execution_count": 67,
     "metadata": {},
     "output_type": "execute_result"
    }
   ],
   "source": [
    "#find all indices with value greater than 50\n",
    "np.where(a>50) #returns index value"
   ]
  },
  {
   "cell_type": "code",
   "execution_count": 68,
   "id": "e76a2176",
   "metadata": {
    "scrolled": true
   },
   "outputs": [
    {
     "data": {
      "text/plain": [
       "array([ 0,  0, 46, 20,  0,  0, 27,  0,  0, 19,  8,  0, 10,  0, 19])"
      ]
     },
     "execution_count": 68,
     "metadata": {},
     "output_type": "execute_result"
    }
   ],
   "source": [
    "#replace all values greater than 50 with 0\n",
    "np.where(a>50,0,a)"
   ]
  },
  {
   "cell_type": "markdown",
   "id": "c4c1266d",
   "metadata": {},
   "source": [
    "## np.argmax\n",
    "The numpy.argmax() function returns indices of the max element of the array in a particular axis."
   ]
  },
  {
   "cell_type": "code",
   "execution_count": 69,
   "id": "2e9e7294",
   "metadata": {},
   "outputs": [
    {
     "data": {
      "text/plain": [
       "4"
      ]
     },
     "execution_count": 69,
     "metadata": {},
     "output_type": "execute_result"
    }
   ],
   "source": [
    "np.argmax(a) #finds index of maximum item"
   ]
  },
  {
   "cell_type": "code",
   "execution_count": 70,
   "id": "7d10a469",
   "metadata": {
    "scrolled": true
   },
   "outputs": [
    {
     "data": {
      "text/plain": [
       "array([[38, 66, 19, 90],\n",
       "       [91,  4, 98, 65],\n",
       "       [71,  7, 93, 54],\n",
       "       [31, 32, 82, 75],\n",
       "       [47, 78, 37,  5],\n",
       "       [83, 18, 27, 29]])"
      ]
     },
     "execution_count": 70,
     "metadata": {},
     "output_type": "execute_result"
    }
   ],
   "source": [
    "b"
   ]
  },
  {
   "cell_type": "code",
   "execution_count": 71,
   "id": "aa539b8c",
   "metadata": {},
   "outputs": [
    {
     "data": {
      "text/plain": [
       "array([1, 4, 1, 0], dtype=int64)"
      ]
     },
     "execution_count": 71,
     "metadata": {},
     "output_type": "execute_result"
    }
   ],
   "source": [
    "np.argmax(b, axis=0) #returns maximum value indices column wise"
   ]
  },
  {
   "cell_type": "code",
   "execution_count": 72,
   "id": "8e774fba",
   "metadata": {},
   "outputs": [
    {
     "data": {
      "text/plain": [
       "array([3, 2, 2, 2, 1, 0], dtype=int64)"
      ]
     },
     "execution_count": 72,
     "metadata": {},
     "output_type": "execute_result"
    }
   ],
   "source": [
    "np.argmax(b, axis=1) #returns maximum value indices row wise"
   ]
  },
  {
   "cell_type": "code",
   "execution_count": 73,
   "id": "ab7235ec",
   "metadata": {
    "scrolled": true
   },
   "outputs": [
    {
     "data": {
      "text/plain": [
       "10"
      ]
     },
     "execution_count": 73,
     "metadata": {},
     "output_type": "execute_result"
    }
   ],
   "source": [
    "np.argmin(a) #similar to argmax() fucntions returns indices of minimum item"
   ]
  },
  {
   "cell_type": "markdown",
   "id": "006ab8a3",
   "metadata": {},
   "source": [
    "## np.cumsum\n",
    "numpy.cumsum() function is used when we want to compute the cumulative sum of array elements over a given axis."
   ]
  },
  {
   "cell_type": "code",
   "execution_count": 74,
   "id": "678ca7fa",
   "metadata": {},
   "outputs": [
    {
     "data": {
      "text/plain": [
       "array([ 65, 142, 188, 208, 303, 364, 391, 451, 532, 551, 559, 623, 633,\n",
       "       723, 742])"
      ]
     },
     "execution_count": 74,
     "metadata": {},
     "output_type": "execute_result"
    }
   ],
   "source": [
    "np.cumsum(a)"
   ]
  },
  {
   "cell_type": "code",
   "execution_count": 75,
   "id": "f27f73e4",
   "metadata": {
    "scrolled": false
   },
   "outputs": [
    {
     "data": {
      "text/plain": [
       "array([  38,  104,  123,  213,  304,  308,  406,  471,  542,  549,  642,\n",
       "        696,  727,  759,  841,  916,  963, 1041, 1078, 1083, 1166, 1184,\n",
       "       1211, 1240])"
      ]
     },
     "execution_count": 75,
     "metadata": {},
     "output_type": "execute_result"
    }
   ],
   "source": [
    "np.cumsum(b) #return 1d array "
   ]
  },
  {
   "cell_type": "code",
   "execution_count": 76,
   "id": "036f0c5a",
   "metadata": {},
   "outputs": [
    {
     "data": {
      "text/plain": [
       "array([[ 38, 104, 123, 213],\n",
       "       [ 91,  95, 193, 258],\n",
       "       [ 71,  78, 171, 225],\n",
       "       [ 31,  63, 145, 220],\n",
       "       [ 47, 125, 162, 167],\n",
       "       [ 83, 101, 128, 157]])"
      ]
     },
     "execution_count": 76,
     "metadata": {},
     "output_type": "execute_result"
    }
   ],
   "source": [
    "np.cumsum(b,axis=1) #return cumsum row wise"
   ]
  },
  {
   "cell_type": "code",
   "execution_count": 77,
   "id": "304bc7f6",
   "metadata": {
    "scrolled": true
   },
   "outputs": [
    {
     "data": {
      "text/plain": [
       "array([[ 38,  66,  19,  90],\n",
       "       [129,  70, 117, 155],\n",
       "       [200,  77, 210, 209],\n",
       "       [231, 109, 292, 284],\n",
       "       [278, 187, 329, 289],\n",
       "       [361, 205, 356, 318]])"
      ]
     },
     "execution_count": 77,
     "metadata": {},
     "output_type": "execute_result"
    }
   ],
   "source": [
    "np.cumsum(b,axis=0) #return cumsum column wise"
   ]
  },
  {
   "cell_type": "code",
   "execution_count": 78,
   "id": "bc999a40",
   "metadata": {
    "scrolled": false
   },
   "outputs": [
    {
     "data": {
      "text/plain": [
       "array([         65,        5005,      230230,     4604600,   437437000,\n",
       "         913853224, -1095766728, -1321494240,   333148960,  2034862944,\n",
       "        -900965632, -1827225600, -1092386816,   469434368,   329318400])"
      ]
     },
     "execution_count": 78,
     "metadata": {},
     "output_type": "execute_result"
    }
   ],
   "source": [
    "np.cumprod(a) #similar to cumsum()"
   ]
  },
  {
   "cell_type": "markdown",
   "id": "ba59d4e1",
   "metadata": {},
   "source": [
    "## np.percentile\n",
    "numpy.percentile()function used to compute the nth percentile of the given data (array elements) along the specified axis."
   ]
  },
  {
   "cell_type": "code",
   "execution_count": 79,
   "id": "74781701",
   "metadata": {},
   "outputs": [
    {
     "data": {
      "text/plain": [
       "60.0"
      ]
     },
     "execution_count": 79,
     "metadata": {},
     "output_type": "execute_result"
    }
   ],
   "source": [
    "np.percentile(a,100) #return values havung 100 %tile\n",
    "np.percentile(a,0) #returns vlaue having 0 %tile\n",
    "np.percentile(a,50) #returns value having 50 %tile"
   ]
  },
  {
   "cell_type": "markdown",
   "id": "0b8fcd7a",
   "metadata": {},
   "source": [
    "## np.histogram\n",
    "Numpy has a built-in numpy.histogram() function which represents the frequency of data distribution in the graphical form."
   ]
  },
  {
   "cell_type": "code",
   "execution_count": 80,
   "id": "79d07daa",
   "metadata": {
    "scrolled": true
   },
   "outputs": [
    {
     "data": {
      "text/plain": [
       "(array([3, 2, 0, 1, 0, 4, 1, 1, 2], dtype=int64),\n",
       " array([ 10,  20,  30,  40,  50,  60,  70,  80,  90, 100]))"
      ]
     },
     "execution_count": 80,
     "metadata": {},
     "output_type": "execute_result"
    }
   ],
   "source": [
    "np.histogram(a,bins=[10,20,30,40,50,60,70,80,90,100])"
   ]
  },
  {
   "cell_type": "markdown",
   "id": "313e8e2b",
   "metadata": {},
   "source": [
    "## np.corrcoef\n",
    "Return Pearson product-moment correlation coefficients."
   ]
  },
  {
   "cell_type": "code",
   "execution_count": 81,
   "id": "c86ded89",
   "metadata": {},
   "outputs": [],
   "source": [
    "salary=np.array([20000,40000,25000,35000,60000])\n",
    "experience=np.array([1,3,2,4,2])"
   ]
  },
  {
   "cell_type": "code",
   "execution_count": 82,
   "id": "a08ba24b",
   "metadata": {
    "scrolled": false
   },
   "outputs": [
    {
     "data": {
      "text/plain": [
       "array([[1.        , 0.25344572],\n",
       "       [0.25344572, 1.        ]])"
      ]
     },
     "execution_count": 82,
     "metadata": {},
     "output_type": "execute_result"
    }
   ],
   "source": [
    "np.corrcoef(salary,experience)"
   ]
  },
  {
   "cell_type": "markdown",
   "id": "2aa708d2",
   "metadata": {},
   "source": [
    "## np.isin\n",
    "With the help of numpy.isin() method, we can see that one array having values are checked in a different numpy array having different elements with different sizes."
   ]
  },
  {
   "cell_type": "code",
   "execution_count": 83,
   "id": "18e8bde2",
   "metadata": {
    "scrolled": false
   },
   "outputs": [
    {
     "data": {
      "text/plain": [
       "array([20, 60, 10, 90])"
      ]
     },
     "execution_count": 83,
     "metadata": {},
     "output_type": "execute_result"
    }
   ],
   "source": [
    "items=[10,20,30,40,50,60,70,80,90,100]\n",
    "a[np.isin(a,items)]"
   ]
  },
  {
   "cell_type": "markdown",
   "id": "4a0f5aee",
   "metadata": {},
   "source": [
    "## np.flip\n",
    "The numpy.flip() function reverses the order of array elements along the specified axis, preserving the shape of the array."
   ]
  },
  {
   "cell_type": "code",
   "execution_count": 84,
   "id": "1179f6c5",
   "metadata": {
    "scrolled": true
   },
   "outputs": [
    {
     "name": "stdout",
     "output_type": "stream",
     "text": [
      "[65 77 46 20 95 61 27 60 81 19  8 64 10 90 19]\n"
     ]
    },
    {
     "data": {
      "text/plain": [
       "array([19, 90, 10, 64,  8, 19, 81, 60, 27, 61, 95, 20, 46, 77, 65])"
      ]
     },
     "execution_count": 84,
     "metadata": {},
     "output_type": "execute_result"
    }
   ],
   "source": [
    "print(a)\n",
    "np.flip(a)"
   ]
  },
  {
   "cell_type": "code",
   "execution_count": 85,
   "id": "51d8fe26",
   "metadata": {
    "scrolled": false
   },
   "outputs": [
    {
     "data": {
      "text/plain": [
       "array([[90, 19, 66, 38],\n",
       "       [65, 98,  4, 91],\n",
       "       [54, 93,  7, 71],\n",
       "       [75, 82, 32, 31],\n",
       "       [ 5, 37, 78, 47],\n",
       "       [29, 27, 18, 83]])"
      ]
     },
     "execution_count": 85,
     "metadata": {},
     "output_type": "execute_result"
    }
   ],
   "source": [
    "np.flip(b)\n",
    "np.flip(b,axis=0) #column flip\n",
    "np.flip(b,axis=1) #row flip"
   ]
  },
  {
   "cell_type": "markdown",
   "id": "61ff71b1",
   "metadata": {},
   "source": [
    "## np.put\n",
    "The numpy.put() function replaces specific elements of an array with given values of p_array. Array indexed works on flattened array."
   ]
  },
  {
   "cell_type": "code",
   "execution_count": 86,
   "id": "a696e4c9",
   "metadata": {
    "scrolled": false
   },
   "outputs": [
    {
     "data": {
      "text/plain": [
       "array([110,  70,  46,  20,  95,  61,  27,  60,  81,  19,   8,  64,  10,\n",
       "        90,  19])"
      ]
     },
     "execution_count": 86,
     "metadata": {},
     "output_type": "execute_result"
    }
   ],
   "source": [
    "np.put(a,[0,1],[110,70]) #permanent change\n",
    "a"
   ]
  },
  {
   "cell_type": "markdown",
   "id": "ece2c251",
   "metadata": {},
   "source": [
    "## np.delete\n",
    "The numpy.delete() function returns a new array with the deletion of sub-arrays along with the mentioned axis."
   ]
  },
  {
   "cell_type": "code",
   "execution_count": 87,
   "id": "38d96b8c",
   "metadata": {
    "scrolled": true
   },
   "outputs": [
    {
     "data": {
      "text/plain": [
       "array([70, 20, 95, 61, 27, 60, 81, 19,  8, 64, 10, 90, 19])"
      ]
     },
     "execution_count": 87,
     "metadata": {},
     "output_type": "execute_result"
    }
   ],
   "source": [
    "np.delete(a,[0,2]) #delete on specified index"
   ]
  },
  {
   "cell_type": "markdown",
   "id": "1bd47305",
   "metadata": {},
   "source": [
    "## Set functions\n",
    "* np.union1d\n",
    "* np.intersect1d\n",
    "* np.setdiff1d\n",
    "* np.setxor1d\n",
    "* np.in1d"
   ]
  },
  {
   "cell_type": "code",
   "execution_count": 88,
   "id": "57840e49",
   "metadata": {},
   "outputs": [
    {
     "data": {
      "text/plain": [
       "array([1, 2, 3, 4, 5, 6, 7])"
      ]
     },
     "execution_count": 88,
     "metadata": {},
     "output_type": "execute_result"
    }
   ],
   "source": [
    "#set functions\n",
    "m=np.array([1,2,3,4,5])\n",
    "n=np.array([3,4,5,6,7])\n",
    "np.union1d(m,n)"
   ]
  },
  {
   "cell_type": "code",
   "execution_count": 89,
   "id": "461701c6",
   "metadata": {},
   "outputs": [
    {
     "data": {
      "text/plain": [
       "array([3, 4, 5])"
      ]
     },
     "execution_count": 89,
     "metadata": {},
     "output_type": "execute_result"
    }
   ],
   "source": [
    "np.intersect1d(m,n)"
   ]
  },
  {
   "cell_type": "code",
   "execution_count": 90,
   "id": "be4c6c68",
   "metadata": {},
   "outputs": [
    {
     "data": {
      "text/plain": [
       "array([1, 2])"
      ]
     },
     "execution_count": 90,
     "metadata": {},
     "output_type": "execute_result"
    }
   ],
   "source": [
    "np.setdiff1d(m,n)"
   ]
  },
  {
   "cell_type": "code",
   "execution_count": 91,
   "id": "5a39c73e",
   "metadata": {},
   "outputs": [
    {
     "data": {
      "text/plain": [
       "array([1, 2, 6, 7])"
      ]
     },
     "execution_count": 91,
     "metadata": {},
     "output_type": "execute_result"
    }
   ],
   "source": [
    "np.setxor1d(m,n)"
   ]
  },
  {
   "cell_type": "code",
   "execution_count": 92,
   "id": "b6cff845",
   "metadata": {
    "scrolled": true
   },
   "outputs": [
    {
     "data": {
      "text/plain": [
       "array([ True, False, False, False, False])"
      ]
     },
     "execution_count": 92,
     "metadata": {},
     "output_type": "execute_result"
    }
   ],
   "source": [
    "np.in1d(m,1)"
   ]
  },
  {
   "cell_type": "markdown",
   "id": "3ca6f527",
   "metadata": {},
   "source": [
    "## np.clip\n",
    "numpy.clip() function is used to Clip (limit) the values in an array."
   ]
  },
  {
   "cell_type": "code",
   "execution_count": 93,
   "id": "71f4d97f",
   "metadata": {},
   "outputs": [
    {
     "data": {
      "text/plain": [
       "array([75, 70, 46, 25, 75, 61, 27, 60, 75, 25, 25, 64, 25, 75, 25])"
      ]
     },
     "execution_count": 93,
     "metadata": {},
     "output_type": "execute_result"
    }
   ],
   "source": [
    "np.clip(a,a_min=25,a_max=75)"
   ]
  }
 ],
 "metadata": {
  "kernelspec": {
   "display_name": "Python 3 (ipykernel)",
   "language": "python",
   "name": "python3"
  },
  "language_info": {
   "codemirror_mode": {
    "name": "ipython",
    "version": 3
   },
   "file_extension": ".py",
   "mimetype": "text/x-python",
   "name": "python",
   "nbconvert_exporter": "python",
   "pygments_lexer": "ipython3",
   "version": "3.10.7"
  }
 },
 "nbformat": 4,
 "nbformat_minor": 5
}
